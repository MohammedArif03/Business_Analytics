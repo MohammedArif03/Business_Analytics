{
 "cells": [
  {
   "cell_type": "markdown",
   "metadata": {},
   "source": [
    "## Python Assignment - 1"
   ]
  },
  {
   "cell_type": "markdown",
   "metadata": {},
   "source": [
    "#### 1) Write a Python program to find those numbers which are divisible by 7 and multiple of 5, between 1500 and 2700 (both included)."
   ]
  },
  {
   "cell_type": "code",
   "execution_count": 18,
   "metadata": {},
   "outputs": [
    {
     "name": "stdout",
     "output_type": "stream",
     "text": [
      "1505,1540,1575,1610,1645,1680,1715,1750,1785,1820,1855,1890,1925,1960,1995,2030,2065,2100,2135,2170,2205,2240,2275,2310,2345,2380,2415,2450,2485,2520,2555,2590,2625,2660,2695\n"
     ]
    }
   ],
   "source": [
    "def numbers_div_by_7_and_5():\n",
    "    num1 = 1500\n",
    "    num2 = 2700\n",
    "    \n",
    "    result = []\n",
    "    for i in range(num1, num2+1):\n",
    "        if (i % 7 == 0) and (i % 5 == 0):\n",
    "            result.append(str(i))\n",
    "    return ','.join(result)\n",
    "\n",
    "numbers_divisible = numbers_div_by_7_and_5()\n",
    "print(numbers_divisible)"
   ]
  },
  {
   "cell_type": "markdown",
   "metadata": {},
   "source": [
    "#### 2) Python program to add two numbers"
   ]
  },
  {
   "cell_type": "code",
   "execution_count": 19,
   "metadata": {},
   "outputs": [
    {
     "name": "stdout",
     "output_type": "stream",
     "text": [
      "79\n"
     ]
    }
   ],
   "source": [
    "def add_two_numbers(n1,n2):\n",
    "    return n1+n2\n",
    "\n",
    "addition = add_two_numbers(56,23)\n",
    "print(addition)"
   ]
  },
  {
   "cell_type": "markdown",
   "metadata": {},
   "source": [
    "#### 3) Maximum of two numbers in Python"
   ]
  },
  {
   "cell_type": "code",
   "execution_count": 2,
   "metadata": {},
   "outputs": [
    {
     "name": "stdout",
     "output_type": "stream",
     "text": [
      "56 is greatest \n",
      " 56 is greatest \n",
      " 221 is greatest\n"
     ]
    }
   ],
   "source": [
    "def find_maximum(n1,n2):\n",
    "    if n1 > n2:\n",
    "        return (\"{} is greatest\".format(n1))\n",
    "    else:\n",
    "        return (\"{} is greatest\".format(n2))\n",
    "\n",
    "chk1 = find_maximum(56,23)\n",
    "chk2 = find_maximum(23,56)\n",
    "chk3 = find_maximum(190,221)\n",
    "\n",
    "print(chk1,\"\\n\",chk2,\"\\n\",chk3)"
   ]
  },
  {
   "cell_type": "markdown",
   "metadata": {},
   "source": [
    "#### 4) Python Program for factorial of a number"
   ]
  },
  {
   "cell_type": "code",
   "execution_count": 31,
   "metadata": {},
   "outputs": [
    {
     "name": "stdout",
     "output_type": "stream",
     "text": [
      "5040\n"
     ]
    }
   ],
   "source": [
    "def factorial(n):\n",
    "    result = 1\n",
    "    for i in range(1,n+1):\n",
    "        result = result * i\n",
    "\n",
    "    print(result)\n",
    "    \n",
    "factorial(7)\n",
    "        "
   ]
  },
  {
   "cell_type": "markdown",
   "metadata": {},
   "source": [
    "#### 5) Python Program for simple interest"
   ]
  },
  {
   "cell_type": "code",
   "execution_count": 32,
   "metadata": {},
   "outputs": [
    {
     "data": {
      "text/plain": [
       "281.25"
      ]
     },
     "execution_count": 32,
     "metadata": {},
     "output_type": "execute_result"
    }
   ],
   "source": [
    "def simple_interest(p,n,r):\n",
    "    return ((p*n*r)/100)\n",
    "\n",
    "simple_interest(4500,5,1.25)"
   ]
  },
  {
   "cell_type": "markdown",
   "metadata": {},
   "source": [
    "#### 6) Python program for Compound interest"
   ]
  },
  {
   "cell_type": "code",
   "execution_count": 3,
   "metadata": {},
   "outputs": [
    {
     "data": {
      "text/plain": [
       "10251.5625"
      ]
     },
     "execution_count": 3,
     "metadata": {},
     "output_type": "execute_result"
    }
   ],
   "source": [
    "def compound_interest(p,n,r):\n",
    "    return p*(pow((1+r/100),n))\n",
    "\n",
    "compound_interest(10000,2,1.25)"
   ]
  },
  {
   "cell_type": "markdown",
   "metadata": {},
   "source": [
    "#### 7) Python Program to check Armstrong Number"
   ]
  },
  {
   "cell_type": "code",
   "execution_count": 4,
   "metadata": {},
   "outputs": [
    {
     "name": "stdout",
     "output_type": "stream",
     "text": [
      "The number is not Armstrong\n",
      "The number is not Armstrong\n",
      "The number is Armstrong\n"
     ]
    }
   ],
   "source": [
    "def is_armstrong(num):\n",
    "    \n",
    "    # Armstrong number is a number if the sum of cube of each number is equal to the number itself\n",
    "    # if a number is between 1 to 9 then the number is armstrong number\n",
    "    if num in range(1,10):\n",
    "        return \"The number is Armstrong\"\n",
    "    \n",
    "    len_of_digit = len(str(num))\n",
    "    sum1 = 0\n",
    "    temp = num\n",
    "    while temp > 0:\n",
    "        d = temp % 10\n",
    "        sum1 = sum1 + d ** len_of_digit\n",
    "        temp = temp // 10\n",
    "    if sum1 == num:\n",
    "        return \"The number is Armstrong\"\n",
    "    else:\n",
    "        return \"The number is not Armstrong\"\n",
    "    \n",
    "print(is_armstrong(20))\n",
    "print(is_armstrong(650))\n",
    "print(is_armstrong(407))"
   ]
  },
  {
   "cell_type": "markdown",
   "metadata": {},
   "source": [
    "#### 8) Python Program to find area of a circle"
   ]
  },
  {
   "cell_type": "code",
   "execution_count": 7,
   "metadata": {},
   "outputs": [
    {
     "data": {
      "text/plain": [
       "50.26548245743669"
      ]
     },
     "execution_count": 7,
     "metadata": {},
     "output_type": "execute_result"
    }
   ],
   "source": [
    "import math\n",
    "def area_of_circle(r):\n",
    "    try:\n",
    "        if r <= 0:\n",
    "            print(\"Enter the valid radius in positive number\")\n",
    "        else:\n",
    "            result = math.pi * (r**2)\n",
    "    except Exception as e:\n",
    "        print(\"There is some error in the code\")\n",
    "    return result\n",
    "\n",
    "area_of_circle(4)\n"
   ]
  },
  {
   "cell_type": "markdown",
   "metadata": {},
   "source": [
    "#### 9) Python program to print all Prime numbers in an Interval"
   ]
  },
  {
   "cell_type": "code",
   "execution_count": 1,
   "metadata": {},
   "outputs": [
    {
     "name": "stdout",
     "output_type": "stream",
     "text": [
      "[2, 3, 5, 7, 11, 13, 17, 19, 23, 29, 31, 37, 41, 43, 47, 53, 59, 61, 67, 71, 73, 79, 83, 89, 97, 101, 103, 107, 109, 113, 127, 131, 137, 139, 149, 151, 157, 163, 167, 173, 179, 181, 191, 193, 197, 199, 211, 223, 227, 229, 233, 239, 241, 251, 257, 263, 269, 271, 277, 281, 283, 293, 307, 311, 313, 317, 331, 337, 347, 349, 353, 359, 367, 373, 379, 383, 389, 397, 401, 409, 419, 421, 431, 433, 439, 443, 449, 457, 461, 463, 467, 479, 487, 491, 499]\n"
     ]
    }
   ],
   "source": [
    "l1 = []\n",
    "for i in range(1, 500+1):\n",
    "    if i > 1:\n",
    "        for j in range(2, i):\n",
    "            if(i%j)==0:\n",
    "                break\n",
    "        else:\n",
    "            l1.append(i)\n",
    "print(l1)\n",
    "        "
   ]
  },
  {
   "cell_type": "markdown",
   "metadata": {},
   "source": [
    "#### 10) Python program to check whether a number is Prime or not"
   ]
  },
  {
   "cell_type": "code",
   "execution_count": 3,
   "metadata": {},
   "outputs": [
    {
     "name": "stdout",
     "output_type": "stream",
     "text": [
      "Enter the number:6\n",
      "The number 6 is not a prime\n",
      "2 times 3 is 6\n"
     ]
    }
   ],
   "source": [
    "num1 = int(input(\"Enter the number:\"))\n",
    "\n",
    "# Prime number is a number that is divisible by itself and 1. prime nummber always greater than 1\n",
    "\n",
    "if num1 > 1:\n",
    "    for i in range(2,num1):\n",
    "        if num1 % i == 0:\n",
    "            print(f\"The number {num1} is not a prime\")\n",
    "            print(i, \"times\", num1//i, \"is\", num1)\n",
    "            break\n",
    "    else:\n",
    "        print(\"The number is prime\")\n",
    "else:\n",
    "    print(\"The number is not prime\")"
   ]
  },
  {
   "cell_type": "code",
   "execution_count": null,
   "metadata": {},
   "outputs": [],
   "source": []
  }
 ],
 "metadata": {
  "kernelspec": {
   "display_name": "Python 3",
   "language": "python",
   "name": "python3"
  },
  "language_info": {
   "codemirror_mode": {
    "name": "ipython",
    "version": 3
   },
   "file_extension": ".py",
   "mimetype": "text/x-python",
   "name": "python",
   "nbconvert_exporter": "python",
   "pygments_lexer": "ipython3",
   "version": "3.8.3"
  }
 },
 "nbformat": 4,
 "nbformat_minor": 4
}
